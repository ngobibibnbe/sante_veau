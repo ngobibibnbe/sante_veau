{
 "cells": [
  {
   "cell_type": "code",
   "execution_count": 2,
   "metadata": {},
   "outputs": [
    {
     "name": "stdout",
     "output_type": "stream",
     "text": [
      "env: http_proxy=http://proxy.valeria.science:3128\n"
     ]
    }
   ],
   "source": [
    "%env https_proxy=http://proxy.valeria.science:3128"
   ]
  },
  {
   "cell_type": "code",
   "execution_count": 2,
   "metadata": {},
   "outputs": [],
   "source": [
    "import sys\n",
    "import moviepy\n",
    "import pandas as pd \n",
    "from moviepy.editor import *\n",
    "from datetime import  datetime\n",
    "#video_file= \"../sante_veau/videos/2022_02_02/N862A6_ch1_main_20220125000000_20220125003000.mp4\"\n"
   ]
  },
  {
   "cell_type": "code",
   "execution_count": 3,
   "metadata": {},
   "outputs": [
    {
     "data": {
      "text/html": [
       "<div>\n",
       "<style scoped>\n",
       "    .dataframe tbody tr th:only-of-type {\n",
       "        vertical-align: middle;\n",
       "    }\n",
       "\n",
       "    .dataframe tbody tr th {\n",
       "        vertical-align: top;\n",
       "    }\n",
       "\n",
       "    .dataframe thead th {\n",
       "        text-align: right;\n",
       "    }\n",
       "</style>\n",
       "<table border=\"1\" class=\"dataframe\">\n",
       "  <thead>\n",
       "    <tr style=\"text-align: right;\">\n",
       "      <th></th>\n",
       "      <th>date</th>\n",
       "      <th>station</th>\n",
       "      <th>Duration</th>\n",
       "      <th>calfNumber</th>\n",
       "      <th>start visit dateTime</th>\n",
       "      <th>end visit dateTime</th>\n",
       "    </tr>\n",
       "  </thead>\n",
       "  <tbody>\n",
       "    <tr>\n",
       "      <th>14</th>\n",
       "      <td>2022-01-30T15:13</td>\n",
       "      <td>1</td>\n",
       "      <td>586</td>\n",
       "      <td>6700</td>\n",
       "      <td>2022-01-30 09:12:00</td>\n",
       "      <td>2022-01-30 09:23:16</td>\n",
       "    </tr>\n",
       "    <tr>\n",
       "      <th>25</th>\n",
       "      <td>2022-01-30T14:42</td>\n",
       "      <td>1</td>\n",
       "      <td>470</td>\n",
       "      <td>6335</td>\n",
       "      <td>2022-01-30 08:41:00</td>\n",
       "      <td>2022-01-30 08:50:20</td>\n",
       "    </tr>\n",
       "    <tr>\n",
       "      <th>26</th>\n",
       "      <td>2022-01-30T14:34</td>\n",
       "      <td>2</td>\n",
       "      <td>160</td>\n",
       "      <td>6685</td>\n",
       "      <td>2022-01-30 08:33:00</td>\n",
       "      <td>2022-01-30 08:37:10</td>\n",
       "    </tr>\n",
       "    <tr>\n",
       "      <th>31</th>\n",
       "      <td>2022-01-30T14:12</td>\n",
       "      <td>2</td>\n",
       "      <td>96</td>\n",
       "      <td>6314</td>\n",
       "      <td>2022-01-30 08:11:00</td>\n",
       "      <td>2022-01-30 08:14:06</td>\n",
       "    </tr>\n",
       "    <tr>\n",
       "      <th>34</th>\n",
       "      <td>2022-01-30T14:05</td>\n",
       "      <td>2</td>\n",
       "      <td>127</td>\n",
       "      <td>6692</td>\n",
       "      <td>2022-01-30 08:04:00</td>\n",
       "      <td>2022-01-30 08:07:37</td>\n",
       "    </tr>\n",
       "  </tbody>\n",
       "</table>\n",
       "</div>"
      ],
      "text/plain": [
       "                date  station  Duration  calfNumber start visit dateTime  \\\n",
       "14  2022-01-30T15:13        1       586        6700  2022-01-30 09:12:00   \n",
       "25  2022-01-30T14:42        1       470        6335  2022-01-30 08:41:00   \n",
       "26  2022-01-30T14:34        2       160        6685  2022-01-30 08:33:00   \n",
       "31  2022-01-30T14:12        2        96        6314  2022-01-30 08:11:00   \n",
       "34  2022-01-30T14:05        2       127        6692  2022-01-30 08:04:00   \n",
       "\n",
       "    end visit dateTime  \n",
       "14 2022-01-30 09:23:16  \n",
       "25 2022-01-30 08:50:20  \n",
       "26 2022-01-30 08:37:10  \n",
       "31 2022-01-30 08:14:06  \n",
       "34 2022-01-30 08:07:37  "
      ]
     },
     "execution_count": 3,
     "metadata": {},
     "output_type": "execute_result"
    }
   ],
   "source": [
    "interesting_sections=pd.read_csv(\"../louves/visits_point.csv\", sep=\";\")\n",
    "interesting_sections=interesting_sections.loc[interesting_sections['Duration'] !=0]\n",
    "interesting_sections=interesting_sections[[\"date\", \"station\", \"Duration\", \"calfNumber\"]]\n",
    "interesting_sections[\"station\"] =interesting_sections[\"station\"].replace([1,2],[2,1])\n",
    "\n",
    "interesting_sections[\"start visit dateTime\"]= pd.to_datetime(interesting_sections[\"date\"])\n",
    "interesting_sections[\"end visit dateTime\"]= interesting_sections[\"start visit dateTime\"] + pd.to_timedelta(interesting_sections['Duration']+30, unit='s')- pd.to_timedelta(6, unit='h')\n",
    "interesting_sections[\"start visit dateTime\"]= pd.to_datetime(interesting_sections[\"date\"])- pd.to_timedelta(60, unit='s') - pd.to_timedelta(6, unit='h')#.agg(' '.join, axis=1))#.dt.time\n",
    "interesting_sections.to_csv(\"nonull_duration.csv\", index = None,  header=True)\n",
    "\n",
    "interesting_sections.head()\n",
    "#pd.to_datetime(interesting_sections[[\"date\", \"end visit\"]].agg(' '.join, axis=1))#.dt.time\n",
    "\n"
   ]
  },
  {
   "cell_type": "code",
   "execution_count": 4,
   "metadata": {},
   "outputs": [],
   "source": [
    "import os\n",
    "path =\"../../sante_veau/videos/2022_02_02/\"\n",
    "availabe_videos=pd.DataFrame(columns=[\"names\"])\n",
    "\n",
    "#we shall store all the file names in this list\n",
    "filelist = []\n",
    "for root, dirs, files in os.walk(path):\n",
    "    for file in files:\n",
    "        #append the file name to the list\n",
    "        filelist.append(os.path.join(root,file))\n",
    "#print all the file names\n",
    "for name in filelist:\n",
    "    #print(name)\n",
    "    availabe_videos = availabe_videos.append({'names':name}, ignore_index=True)\n",
    "\n",
    "    \n",
    "\n",
    "    ###\"remplacer par toutes les vidéos présentent dans le dossier\", à trier impérativement pour les portions partagées\n",
    "    ### \n",
    "    availabe_videos[\"start time\"]=[(name.split(\".mp4\")[0].split(\"_\")[-2])[:-6]+\" \"+(name.split(\".mp4\")[0].split(\"_\")[-2])[-6:-4]+\":\"+(name.split(\".mp4\")[0].split(\"_\")[-2])[-4:-2]+\":\"+(name.split(\".mp4\")[0].split(\"_\")[-2])[-2:] for name in  availabe_videos[\"names\"].values]\n",
    "    availabe_videos[\"end time\"]=[(name.split(\".mp4\")[0].split(\"_\")[-1])[:-6]+\" \"+(name.split(\".mp4\")[0].split(\"_\")[-1])[-6:-4]+\":\"+(name.split(\".mp4\")[0].split(\"_\")[-1])[-4:-2]+\":\"+(name.split(\".mp4\")[0].split(\"_\")[-1])[-2:]  for name in  availabe_videos[\"names\"].values]\n",
    "    availabe_videos[\"start time\"] = pd.to_datetime(availabe_videos['start time'],infer_datetime_format=True) # format ='%y%m%d %H:%M:%S')\n",
    "    availabe_videos[\"end time\"] = pd.to_datetime(availabe_videos['end time'],infer_datetime_format=True) \n",
    "#availabe_videos.head()\n"
   ]
  },
  {
   "cell_type": "markdown",
   "metadata": {},
   "source": [
    "# Extracting interesting sections in videos\n"
   ]
  },
  {
   "cell_type": "code",
   "execution_count": null,
   "metadata": {},
   "outputs": [
    {
     "name": "stdout",
     "output_type": "stream",
     "text": [
      "['videos/vealnum_6686_ch2_from_01262022070700__to__01262022070844.mp4', 'videos/vealnum_6692_ch2_from_01272022082300__to__01272022083318.mp4', 'videos/vealnum_6677_ch2_from_01252022092800__to__01252022093221.mp4', 'videos/vealnum_6324_ch2_from_01272022080800__to__01272022080937.mp4', 'videos/vealnum_6338_ch1_from_01262022033500__to__01262022034417.mp4', 'videos/vealnum_6335_ch1_from_01262022023500__to__01262022024444.mp4', 'videos/vealnum_6323_ch2_from_01262022080100__to__01262022080745.mp4', 'videos/vealnum_6686_ch2_from_01262022070400__to__01262022070613.mp4', 'videos/vealnum_6715_ch1_from_01252022185900__to__01252022192350.mp4', 'videos/vealnum_6715_ch1_from_01252022204200__to__01252022205331.mp4', 'videos/vealnum_6684_ch2_from_01272022090800__to__01272022091205.mp4', 'videos/vealnum_6685_ch2_from_01252022091300__to__01252022091524.mp4', 'videos/vealnum_6694_ch1_from_01262022070200__to__01262022070343.mp4', 'videos/vealnum_6331_ch1_from_01252022173600__to__01252022174220.mp4', 'videos/vealnum_6707_ch1_from_01262022021900__to__01262022022733.mp4', 'videos/vealnum_6314_ch2_from_01272022062100__to__01272022062244.mp4', 'videos/vealnum_6685_ch2_from_01252022091600__to__01252022092249.mp4', 'videos/vealnum_6694_ch1_from_01262022001500__to__01262022002654.mp4', 'videos/vealnum_6700_ch1_from_01262022042200__to__01262022044042.mp4', 'videos/vealnum_6694_ch1_from_01262022070300__to__01262022070838.mp4', 'videos/vealnum_6692_ch2_from_01262022081300__to__01262022081942.mp4', 'videos/vealnum_6337_ch1_from_01262022034300__to__01262022034435.mp4', 'videos/vealnum_6337_ch1_from_01262022085300__to__01262022085620.mp4', 'videos/vealnum_6338_ch1_from_01252022185300__to__01252022190102.mp4', 'videos/vealnum_6331_ch1_from_01252022175200__to__01252022180111.mp4', 'videos/vealnum_6337_ch1_from_01252022230000__to__01252022230639.mp4', 'videos/vealnum_6685_ch2_from_01262022093600__to__01262022094231.mp4', 'videos/vealnum_6314_ch2_from_01272022062200__to__01272022062337.mp4', 'videos/vealnum_6338_ch1_from_01272022060800__to__01272022061258.mp4', 'videos/vealnum_6686_ch2_from_01262022072400__to__01262022072855.mp4', 'videos/vealnum_6715_ch1_from_01262022085100__to__01262022085447.mp4', 'videos/vealnum_6684_ch2_from_01262022070000__to__01262022070437.mp4', 'videos/vealnum_6323_ch2_from_01272022083200__to__01272022083517.mp4', 'videos/vealnum_6694_ch1_from_01262022070100__to__01262022070253.mp4', 'videos/vealnum_6324_ch2_from_01272022080700__to__01272022080842.mp4', 'videos/vealnum_6715_ch1_from_01272022062000__to__01272022062958.mp4', 'videos/vealnum_6331_ch1_from_01262022063100__to__01262022064727.mp4', 'videos/vealnum_6694_ch1_from_01252022224900__to__01252022225238.mp4', 'videos/vealnum_6700_ch1_from_01252022155100__to__01252022155601.mp4', 'videos/vealnum_6335_ch1_from_01252022210700__to__01252022211835.mp4', 'videos/vealnum_6331_ch1_from_01252022111800__to__01252022112210.mp4', 'videos/vealnum_6685_ch2_from_01252022091500__to__01252022091655.mp4', 'videos/vealnum_6314_ch2_from_01272022062300__to__01272022062435.mp4', 'videos/vealnum_6686_ch2_from_01262022070600__to__01262022070831.mp4', 'videos/vealnum_6685_ch2_from_01252022091500__to__01252022091652.mp4', 'videos/vealnum_6337_ch1_from_01262022040600__to__01262022041125.mp4', 'videos/vealnum_6314_ch2_from_01272022062200__to__01272022062359.mp4', 'videos/vealnum_6685_ch2_from_01272022084300__to__01272022085221.mp4', 'videos/vealnum_6314_ch2_from_01262022082100__to__01262022082418.mp4', 'videos/vealnum_6338_ch1_from_01262022053400__to__01262022053759.mp4', 'videos/vealnum_6331_ch1_from_01252022111000__to__01252022111837.mp4', 'videos/vealnum_6677_ch2_from_01262022090900__to__01262022091201.mp4', 'videos/vealnum_6331_ch1_from_01252022224700__to__01252022225015.mp4', 'videos/vealnum_6314_ch2_from_01272022062000__to__01272022062212.mp4', 'videos/vealnum_6338_ch1_from_01252022233500__to__01252022234032.mp4', 'videos/vealnum_6337_ch1_from_01252022181200__to__01252022181821.mp4', 'videos/vealnum_6337_ch1_from_01272022080600__to__01272022081035.mp4', 'videos/vealnum_6685_ch2_from_01252022091400__to__01252022091610.mp4', 'videos/vealnum_6715_ch1_from_01262022031100__to__01262022031500.mp4', 'videos/vealnum_6338_ch1_from_01262022095800__to__01262022100145.mp4', 'videos/vealnum_6700_ch1_from_01252022195500__to__01252022200934.mp4', 'videos/vealnum_6337_ch1_from_01262022034300__to__01262022034436.mp4', 'videos/vealnum_6707_ch1_from_01252022184100__to__01252022185154.mp4', 'videos/vealnum_6700_ch1_from_01262022015800__to__01262022020857.mp4', 'videos/vealnum_6331_ch1_from_01252022172600__to__01252022173054.mp4', 'videos/vealnum_6694_ch1_from_01272022075700__to__01272022080208.mp4', 'videos/vealnum_6700_ch1_from_01262022085800__to__01262022091008.mp4', 'videos/vealnum_6331_ch1_from_01252022112400__to__01252022112738.mp4', 'videos/vealnum_6338_ch1_from_01272022080300__to__01272022080620.mp4', 'videos/vealnum_6331_ch1_from_01252022230700__to__01252022231858.mp4', 'videos/vealnum_6314_ch2_from_01272022061900__to__01272022062036.mp4', 'videos/vealnum_6715_ch1_from_01272022063000__to__01272022063138.mp4', 'videos/vealnum_6694_ch1_from_01272022074500__to__01272022074644.mp4', 'videos/vealnum_6314_ch2_from_01272022062100__to__01272022062240.mp4', 'videos/vealnum_6314_ch2_from_01272022062000__to__01272022062144.mp4', 'videos/vealnum_6686_ch2_from_01272022081800__to__01272022082321.mp4', 'videos/vealnum_6694_ch1_from_01262022070200__to__01262022070404.mp4', 'videos/vealnum_6314_ch2_from_01272022062100__to__01272022062235.mp4', 'videos/vealnum_6335_ch1_from_01262022083100__to__01262022084120.mp4', 'videos/vealnum_6685_ch2_from_01262022074800__to__01262022075318.mp4', 'videos/vealnum_6314_ch2_from_01272022062200__to__01272022062347.mp4', 'videos/vealnum_6314_ch2_from_01272022062700__to__01272022062855.mp4', 'videos/vealnum_6324_ch2_from_01262022071100__to__01262022071836.mp4', 'videos/vealnum_6684_ch2_from_01252022150700__to__01252022151129.mp4', 'videos/vealnum_6338_ch1_from_01262022065500__to__01262022070250.mp4', 'videos/vealnum_6324_ch2_from_01272022080800__to__01272022081341.mp4', 'videos/vealnum_6314_ch2_from_01272022062200__to__01272022062335.mp4', 'videos/vealnum_6314_ch2_from_01272022062400__to__01272022062536.mp4', 'videos/vealnum_6707_ch1_from_01272022061300__to__01272022062101.mp4', 'videos/vealnum_6694_ch1_from_01262022174900__to__01262022175449.mp4', 'videos/vealnum_6707_ch1_from_01262022064900__to__01262022065638.mp4', 'videos/vealnum_6694_ch1_from_01262022070200__to__01262022070358.mp4', 'videos/vealnum_6700_ch1_from_01272022074900__to__01272022075558.mp4', 'videos/vealnum_6338_ch1_from_01262022174000__to__01262022174632.mp4', 'videos/vealnum_6715_ch1_from_01262022084000__to__01262022085154.mp4', 'videos/vealnum_6684_ch2_from_01272022074300__to__01272022074628.mp4', 'videos/vealnum_6715_ch1_from_01262022032600__to__01262022033445.mp4', 'videos/vealnum_6314_ch2_from_01272022062900__to__01272022063420.mp4', 'videos/vealnum_6694_ch1_from_01252022180500__to__01252022181244.mp4', 'videos/vealnum_6337_ch1_from_01262022034300__to__01262022034439.mp4']\n",
      "hi ../../sante_veau/videos/2022_02_02/N862A6_ch1_main_20220125090000_20220125093000.mp4\n",
      "True 2022-01-25 09:08:00 2022-01-25 09:00:00\n",
      "** 480.0 1051.0 the rest is -749.0\n",
      "we crop\n",
      "Moviepy - Building video videos/vealnum_6707_ch1_from_01252022090800__to__01252022091731.mp4.\n",
      "MoviePy - Writing audio in vealnum_6707_ch1_from_01252022090800__to__01252022091731TEMP_MPY_wvf_snd.mp3\n"
     ]
    },
    {
     "name": "stderr",
     "output_type": "stream",
     "text": [
      "                                                                        \r"
     ]
    },
    {
     "name": "stdout",
     "output_type": "stream",
     "text": [
      "MoviePy - Done.\n",
      "Moviepy - Writing video videos/vealnum_6707_ch1_from_01252022090800__to__01252022091731.mp4\n",
      "\n"
     ]
    },
    {
     "name": "stderr",
     "output_type": "stream",
     "text": [
      "                                                                \r"
     ]
    },
    {
     "name": "stdout",
     "output_type": "stream",
     "text": [
      "Moviepy - Done !\n",
      "Moviepy - video ready videos/vealnum_6707_ch1_from_01252022090800__to__01252022091731.mp4\n",
      "******created videos/vealnum_6707_ch1_from_01252022090800__to__01252022091731\n",
      "hi ../../sante_veau/videos/2022_02_02/N862A6_ch1_main_20220125090000_20220125093000.mp4\n",
      "True 2022-01-25 09:01:00 2022-01-25 09:00:00\n",
      "** 60.0 601.0 the rest is -1199.0\n",
      "we crop\n",
      "Moviepy - Building video videos/vealnum_6700_ch1_from_01252022090100__to__01252022091001.mp4.\n",
      "MoviePy - Writing audio in vealnum_6700_ch1_from_01252022090100__to__01252022091001TEMP_MPY_wvf_snd.mp3\n"
     ]
    },
    {
     "name": "stderr",
     "output_type": "stream",
     "text": [
      "                                                                        \r"
     ]
    },
    {
     "name": "stdout",
     "output_type": "stream",
     "text": [
      "MoviePy - Done.\n",
      "Moviepy - Writing video videos/vealnum_6700_ch1_from_01252022090100__to__01252022091001.mp4\n",
      "\n"
     ]
    },
    {
     "name": "stderr",
     "output_type": "stream",
     "text": [
      "t:  30%|██▉       | 322/1082 [00:47<01:53,  6.70it/s, now=None]"
     ]
    }
   ],
   "source": [
    "import  copy\n",
    "def crop_video(video_name, new_name, start, end):\n",
    "    video = VideoFileClip(video_name).subclip(start,end)\n",
    "    return video\n",
    "    \n",
    "\n",
    "def search_interesting_section (interesting_section):\n",
    "    for video_idx, availabe_video in availabe_videos.iterrows():\n",
    "        if \"_ch\"+str(interesting_section[\"station\"])+\"_\" in availabe_video[\"names\"] :\n",
    "            #print(\"dispo\",availabe_video[\"names\"])\n",
    "            if interesting_section[\"start visit dateTime\"]>= availabe_video[\"start time\"] and interesting_section[\"start visit dateTime\"] <= availabe_video[\"end time\"]:\n",
    "                #print(availabe_video[\"end time\"], interesting_section[\"start visit dateTime\"], interesting_section[\"end visit dateTime\"], availabe_video[\"start time\"])\n",
    "                #print((availabe_video[\"start time\"] - interesting_section[\"start visit dateTime\"]). total_seconds() )\n",
    "                print(\"hi\",availabe_video[\"names\"])\n",
    "                \n",
    "                print(interesting_section[\"start visit dateTime\"]>= availabe_video[\"start time\"], interesting_section[\"start visit dateTime\"], availabe_video[\"start time\"])\n",
    "\n",
    "                start=  (interesting_section[\"start visit dateTime\"] - availabe_video[\"start time\"]).total_seconds()\n",
    "                end=  (interesting_section[\"end visit dateTime\"] - availabe_video[\"start time\"]).total_seconds()\n",
    "\n",
    "                rest = -(availabe_video[\"end time\"] - interesting_section[\"end visit dateTime\"]).total_seconds()\n",
    "                end_video= (availabe_video[\"end time\"] - availabe_video[\"start time\"]).total_seconds()\n",
    "                print(\"**\",start,end, \"the rest is\", rest)\n",
    "                if rest>0:\n",
    "                    video = crop_video(availabe_video[\"names\"], interesting_section[\"start visit dateTime\"].strftime(\"%m%d%Y%H%M%S\")+\"__to__\"+interesting_section[\"end visit dateTime\"].strftime(\"%m%d%Y%H%M%S\"), start, end_video )\n",
    "                    print(\"we should take in another video\")\n",
    "                    rest_interesting_section=copy.deepcopy(interesting_section)\n",
    "                    rest_interesting_section[\"start visit dateTime\"]= availabe_video[\"end time\"]+pd.to_timedelta(1, unit='s')\n",
    "                    rest_video = search_interesting_section (rest_interesting_section)\n",
    "                    final = concatenate_videoclips([video, rest_video])\n",
    "                    return final\n",
    "\n",
    "                else:\n",
    "                    print(\"we crop\")\n",
    "                    video = crop_video(availabe_video[\"names\"], interesting_section[\"start visit dateTime\"].strftime(\"%m%d%Y%H%M%S\")+\"__to__\"+interesting_section[\"end visit dateTime\"].strftime(\"%m%d%Y%H%M%S\"), start, end )\n",
    "                    return video\n",
    "        \n",
    "    return None\n",
    "\n",
    "        \n",
    "path =\"videos/\"\n",
    "filelist = []\n",
    "for root, dirs, files in os.walk(path):\n",
    "    for file in files:\n",
    "        #append the file name to the list\n",
    "        filelist.append(os.path.join(root,file))\n",
    "print(filelist)\n",
    "for section_idx, interesting_section in interesting_sections.iterrows():\n",
    "    #enlever le _ a coté de ch\n",
    "    new_name=\"vealnum_\"+str(interesting_section[\"calfNumber\"])+\"_ch\"+str(interesting_section[\"station\"])+\"_from_\"+interesting_section[\"start visit dateTime\"].strftime(\"%m%d%Y%H%M%S\")+\"__to__\"+interesting_section[\"end visit dateTime\"].strftime(\"%m%d%Y%H%M%S\")\n",
    "    if \"videos/\"+new_name+\".mp4\" not in filelist:\n",
    "        #print(\"videos/\"+new_name)\n",
    "        video= search_interesting_section(interesting_section)\n",
    "        if video!=None :\n",
    "            video.write_videofile(\"videos/\"+new_name+\".mp4\",fps=2)\n",
    "            print(\"******created\",\"videos/\"+new_name)\n"
   ]
  },
  {
   "cell_type": "code",
   "execution_count": null,
   "metadata": {},
   "outputs": [],
   "source": []
  },
  {
   "cell_type": "code",
   "execution_count": null,
   "metadata": {},
   "outputs": [],
   "source": []
  },
  {
   "cell_type": "code",
   "execution_count": 1,
   "metadata": {},
   "outputs": [
    {
     "name": "stdout",
     "output_type": "stream",
     "text": [
      "Defaulting to user installation because normal site-packages is not writeable\n",
      "Looking in links: /cvmfs/soft.computecanada.ca/custom/python/wheelhouse/nix/avx2, /cvmfs/soft.computecanada.ca/custom/python/wheelhouse/nix/generic, /cvmfs/soft.computecanada.ca/custom/python/wheelhouse/generic\n",
      "Ignoring pip: markers 'python_version < \"3\"' don't match your environment\n",
      "\u001b[33mWARNING: Retrying (Retry(total=4, connect=None, read=None, redirect=None, status=None)) after connection broken by 'NewConnectionError('<pip._vendor.urllib3.connection.HTTPSConnection object at 0x7f0f53cc6ed0>: Failed to establish a new connection: [Errno 101] Network is unreachable')': /simple/deeplabcut/\u001b[0m\n",
      "\u001b[33mWARNING: Retrying (Retry(total=3, connect=None, read=None, redirect=None, status=None)) after connection broken by 'NewConnectionError('<pip._vendor.urllib3.connection.HTTPSConnection object at 0x7f0f53c561d0>: Failed to establish a new connection: [Errno 101] Network is unreachable')': /simple/deeplabcut/\u001b[0m\n",
      "\u001b[33mWARNING: Retrying (Retry(total=2, connect=None, read=None, redirect=None, status=None)) after connection broken by 'NewConnectionError('<pip._vendor.urllib3.connection.HTTPSConnection object at 0x7f0f53c56150>: Failed to establish a new connection: [Errno 101] Network is unreachable')': /simple/deeplabcut/\u001b[0m\n",
      "\u001b[33mWARNING: Retrying (Retry(total=1, connect=None, read=None, redirect=None, status=None)) after connection broken by 'NewConnectionError('<pip._vendor.urllib3.connection.HTTPSConnection object at 0x7f0f53c56350>: Failed to establish a new connection: [Errno 101] Network is unreachable')': /simple/deeplabcut/\u001b[0m\n",
      "\u001b[33mWARNING: Retrying (Retry(total=0, connect=None, read=None, redirect=None, status=None)) after connection broken by 'NewConnectionError('<pip._vendor.urllib3.connection.HTTPSConnection object at 0x7f0f53c56410>: Failed to establish a new connection: [Errno 101] Network is unreachable')': /simple/deeplabcut/\u001b[0m\n",
      "Processing /cvmfs/soft.computecanada.ca/custom/python/wheelhouse/generic/deeplabcut-2.2.0.6+computecanada-py3-none-any.whl\n",
      "Requirement already satisfied: pandas>=1.0.1 in /opt/jupyter/lib/python3.7/site-packages (from deeplabcut) (1.1.1)\n",
      "Requirement already satisfied: ipython in /cvmfs/soft.computecanada.ca/easybuild/software/2017/Core/scipy-stack/2019a/lib/python3.7/site-packages (from deeplabcut) (6.5.0)\n",
      "\u001b[33mWARNING: Retrying (Retry(total=4, connect=None, read=None, redirect=None, status=None)) after connection broken by 'NewConnectionError('<pip._vendor.urllib3.connection.HTTPSConnection object at 0x7f0f53cc6250>: Failed to establish a new connection: [Errno 101] Network is unreachable')': /simple/tables/\u001b[0m\n",
      "\u001b[33mWARNING: Retrying (Retry(total=3, connect=None, read=None, redirect=None, status=None)) after connection broken by 'NewConnectionError('<pip._vendor.urllib3.connection.HTTPSConnection object at 0x7f0f53208810>: Failed to establish a new connection: [Errno 101] Network is unreachable')': /simple/tables/\u001b[0m\n",
      "\u001b[33mWARNING: Retrying (Retry(total=2, connect=None, read=None, redirect=None, status=None)) after connection broken by 'NewConnectionError('<pip._vendor.urllib3.connection.HTTPSConnection object at 0x7f0f53208110>: Failed to establish a new connection: [Errno 101] Network is unreachable')': /simple/tables/\u001b[0m\n",
      "\u001b[33mWARNING: Retrying (Retry(total=1, connect=None, read=None, redirect=None, status=None)) after connection broken by 'NewConnectionError('<pip._vendor.urllib3.connection.HTTPSConnection object at 0x7f0f53208950>: Failed to establish a new connection: [Errno 101] Network is unreachable')': /simple/tables/\u001b[0m\n",
      "\u001b[33mWARNING: Retrying (Retry(total=0, connect=None, read=None, redirect=None, status=None)) after connection broken by 'NewConnectionError('<pip._vendor.urllib3.connection.HTTPSConnection object at 0x7f0f53208b10>: Failed to establish a new connection: [Errno 101] Network is unreachable')': /simple/tables/\u001b[0m\n",
      "Processing /cvmfs/soft.computecanada.ca/custom/python/wheelhouse/nix/avx2/tables-3.6.1+computecanada-cp37-cp37m-linux_x86_64.whl\n",
      "\u001b[33mWARNING: Retrying (Retry(total=4, connect=None, read=None, redirect=None, status=None)) after connection broken by 'NewConnectionError('<pip._vendor.urllib3.connection.HTTPSConnection object at 0x7f0f53203fd0>: Failed to establish a new connection: [Errno 101] Network is unreachable')': /simple/tf-slim/\u001b[0m\n",
      "\u001b[33mWARNING: Retrying (Retry(total=3, connect=None, read=None, redirect=None, status=None)) after connection broken by 'NewConnectionError('<pip._vendor.urllib3.connection.HTTPSConnection object at 0x7f0f531a0e50>: Failed to establish a new connection: [Errno 101] Network is unreachable')': /simple/tf-slim/\u001b[0m\n",
      "\u001b[33mWARNING: Retrying (Retry(total=2, connect=None, read=None, redirect=None, status=None)) after connection broken by 'NewConnectionError('<pip._vendor.urllib3.connection.HTTPSConnection object at 0x7f0f531a0c50>: Failed to establish a new connection: [Errno 101] Network is unreachable')': /simple/tf-slim/\u001b[0m\n",
      "\u001b[33mWARNING: Retrying (Retry(total=1, connect=None, read=None, redirect=None, status=None)) after connection broken by 'NewConnectionError('<pip._vendor.urllib3.connection.HTTPSConnection object at 0x7f0f531a0b50>: Failed to establish a new connection: [Errno 101] Network is unreachable')': /simple/tf-slim/\u001b[0m\n",
      "\u001b[33mWARNING: Retrying (Retry(total=0, connect=None, read=None, redirect=None, status=None)) after connection broken by 'NewConnectionError('<pip._vendor.urllib3.connection.HTTPSConnection object at 0x7f0f531a0a90>: Failed to establish a new connection: [Errno 101] Network is unreachable')': /simple/tf-slim/\u001b[0m\n",
      "Processing /cvmfs/soft.computecanada.ca/custom/python/wheelhouse/generic/tf_slim-1.1.0+computecanada-py2.py3-none-any.whl\n",
      "Requirement already satisfied: Pillow>=7.1 in /opt/jupyter/lib/python3.7/site-packages (from deeplabcut) (7.2.0)\n",
      "\u001b[33mWARNING: Retrying (Retry(total=4, connect=None, read=None, redirect=None, status=None)) after connection broken by 'NewConnectionError('<pip._vendor.urllib3.connection.HTTPSConnection object at 0x7f0f531a0b10>: Failed to establish a new connection: [Errno 101] Network is unreachable')': /simple/networkx/\u001b[0m\n",
      "\u001b[33mWARNING: Retrying (Retry(total=3, connect=None, read=None, redirect=None, status=None)) after connection broken by 'NewConnectionError('<pip._vendor.urllib3.connection.HTTPSConnection object at 0x7f0f5326bb50>: Failed to establish a new connection: [Errno 101] Network is unreachable')': /simple/networkx/\u001b[0m\n",
      "\u001b[33mWARNING: Retrying (Retry(total=2, connect=None, read=None, redirect=None, status=None)) after connection broken by 'NewConnectionError('<pip._vendor.urllib3.connection.HTTPSConnection object at 0x7f0f5326b950>: Failed to establish a new connection: [Errno 101] Network is unreachable')': /simple/networkx/\u001b[0m\n",
      "\u001b[33mWARNING: Retrying (Retry(total=1, connect=None, read=None, redirect=None, status=None)) after connection broken by 'NewConnectionError('<pip._vendor.urllib3.connection.HTTPSConnection object at 0x7f0f5326b850>: Failed to establish a new connection: [Errno 101] Network is unreachable')': /simple/networkx/\u001b[0m\n",
      "\u001b[33mWARNING: Retrying (Retry(total=0, connect=None, read=None, redirect=None, status=None)) after connection broken by 'NewConnectionError('<pip._vendor.urllib3.connection.HTTPSConnection object at 0x7f0f5326b790>: Failed to establish a new connection: [Errno 101] Network is unreachable')': /simple/networkx/\u001b[0m\n",
      "Processing /cvmfs/soft.computecanada.ca/custom/python/wheelhouse/generic/networkx-2.7+computecanada-py3-none-any.whl\n",
      "\u001b[31mERROR: Package 'networkx' requires a different Python: 3.7.4 not in '>=3.8'\u001b[0m\n"
     ]
    }
   ],
   "source": [
    "!pip --isolated install deeplabcut"
   ]
  }
 ],
 "metadata": {
  "kernelspec": {
   "display_name": "Python 3",
   "language": "python",
   "name": "python3"
  },
  "language_info": {
   "codemirror_mode": {
    "name": "ipython",
    "version": 3
   },
   "file_extension": ".py",
   "mimetype": "text/x-python",
   "name": "python",
   "nbconvert_exporter": "python",
   "pygments_lexer": "ipython3",
   "version": "3.8.5"
  },
  "toc": {
   "base_numbering": 1,
   "nav_menu": {},
   "number_sections": true,
   "sideBar": true,
   "skip_h1_title": false,
   "title_cell": "Table of Contents",
   "title_sidebar": "Contents",
   "toc_cell": false,
   "toc_position": {},
   "toc_section_display": true,
   "toc_window_display": false
  }
 },
 "nbformat": 4,
 "nbformat_minor": 4
}
